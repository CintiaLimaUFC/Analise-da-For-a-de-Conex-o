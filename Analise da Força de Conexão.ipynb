{
 "cells": [
  {
   "cell_type": "markdown",
   "metadata": {},
   "source": [
    "## Processamento das mensagens"
   ]
  },
  {
   "cell_type": "code",
   "execution_count": 1,
   "metadata": {},
   "outputs": [],
   "source": [
    "import pandas as pd\n",
    "import dataframe_image as dfi\n",
    "import matplotlib\n",
    "import matplotlib.pyplot as plt\n",
    "import statistics\n",
    "import pymongo\n",
    "import matplotlib.pyplot as plt\n",
    "import numpy as np\n",
    "from numpy import unravel_index\n",
    "from scipy.cluster.hierarchy import dendrogram, linkage\n",
    "from scipy.spatial import distance\n",
    "from sklearn.cluster import AgglomerativeClustering\n",
    "from sklearn.preprocessing import StandardScaler\n",
    "from collections import Counter\n",
    "from random import sample, randint\n",
    "\n",
    "myclient = pymongo.MongoClient(\"mongodb://localhost:27017/\")\n",
    "mydb = myclient[\"facebook\"]"
   ]
  },
  {
   "cell_type": "markdown",
   "metadata": {},
   "source": [
    "#### Formata texto"
   ]
  },
  {
   "cell_type": "code",
   "execution_count": 2,
   "metadata": {},
   "outputs": [],
   "source": [
    "CARACTERE = '0123456789abcdefghijklmnopqrstuvwxyz '\n",
    "\n",
    "def preprocessamento_dados(sentenca):\n",
    "    sentenca = sentenca.lower()\n",
    "    sentenca = sentenca.translate( str.maketrans( 'âêîôûáéíóúãõ', 'aeiouaeiouao' ))\n",
    "    sentenca = sentenca.split()\n",
    "    \n",
    "    nova_sentenca=[]\n",
    "    for ns in sentenca:\n",
    "        nova_sentenca.append(''.join([ ch for ch in ns if ch in CARACTERE ]))\n",
    "    return nova_sentenca"
   ]
  },
  {
   "cell_type": "markdown",
   "metadata": {},
   "source": [
    "## Análise de dados"
   ]
  },
  {
   "cell_type": "markdown",
   "metadata": {},
   "source": [
    "#### Cria dicionário com palavras selecionadas"
   ]
  },
  {
   "cell_type": "code",
   "execution_count": 3,
   "metadata": {},
   "outputs": [],
   "source": [
    "palavra_categoria={} #Dicionario={palavra:categoria}\n",
    "palavra_frequencia={} #Dicionario={palavra:frequencia_que_cada_palavra_aparece_no_texto}\n",
    "df = pd.read_excel('Palavras_selecionadas.xlsx')\n",
    "\n",
    "for x in range(df.shape[0]):\n",
    "    for i in range(df.shape[1]):\n",
    "        if df.iloc[x,i]==df.iloc[x,i]:\n",
    "            palavra_frequencia[df.iloc[x,i]]=0\n",
    "            palavra_categoria[df.iloc[x,i]]=df.columns[i]"
   ]
  },
  {
   "cell_type": "code",
   "execution_count": 4,
   "metadata": {},
   "outputs": [
    {
     "data": {
      "text/plain": [
       "Index(['Política', 'Religião', 'Estudo', 'Trabalho', 'Doutrina',\n",
       "       'Relacionamento', 'Futebol', 'Esporte', 'Artes ', 'Lúdico', 'Signo',\n",
       "       'Música', 'Comida', 'Animal', 'Maquiagem', 'Droga', 'Pandemia',\n",
       "       'Tecnologia', 'Facebook'],\n",
       "      dtype='object')"
      ]
     },
     "execution_count": 4,
     "metadata": {},
     "output_type": "execute_result"
    }
   ],
   "source": [
    "df.columns"
   ]
  },
  {
   "cell_type": "markdown",
   "metadata": {},
   "source": [
    "#### Conta quantas categorias cada perfil reagiu "
   ]
  },
  {
   "cell_type": "code",
   "execution_count": 5,
   "metadata": {},
   "outputs": [
    {
     "name": "stdout",
     "output_type": "stream",
     "text": [
      "Perfis com nenhuma reação valida= 35570\n",
      "Quant_catgoria: Quant_perfis {1: 7403, 2: 2367, 3: 719, 4: 316, 5: 160, 6: 149, 7: 58, 8: 42, 9: 16, 10: 29}\n",
      "Total de perfis= 46829\n",
      "Total de postagens= 25685\n",
      "Total de postagens não vazias= 15748\n",
      "Total de postagens validas= 3618\n"
     ]
    }
   ],
   "source": [
    "###palavra_categoria\n",
    "\n",
    "totalperfis=0 #Quantidade total de perfis\n",
    "###qPostagem=0\n",
    "qPostagemTotal=0  #Quantidade total de postagens\n",
    "qPostagemNotNull=0  #Quantidade de postagens diferente de null\n",
    "qPostagemValida=0  #Quantidade de postagens validas\n",
    "###perfil_amigos={}\n",
    "###perfil_pub={}\n",
    "perfil_reacoes={} #Quantidade de vezes que cada perfil reagiu a uma catogoria {perfil:{categoria:frequencia}}\n",
    "###lista_palavras_amigos={}\n",
    "###localizacao_perfil={}\n",
    "categorias_postagem={} #Quantidade de vezes que uma palavra, de cada cateogia, aparece na publicação {categoria:frequencia}\n",
    "\n",
    "dic_categoria={} #Dicionario base para ser adicionado a cada perfil\n",
    "for x in df.columns:\n",
    "    dic_categoria[x]=0\n",
    "\n",
    "###aux_loca=1\n",
    "###aux_perfil=0\n",
    "\n",
    "mycol = mydb[\"perfils\"]\n",
    "for dado in mycol.find():\n",
    "    \n",
    "    for postagem in dado['postagens']:\n",
    "        valido=0\n",
    "        qPostagemTotal+=1\n",
    "        \n",
    "        #Adiciona o perfil e os amigos na população (inicializa as variaveis que armazena as reações)\n",
    "        if dado['identidadeFacebook'] not in perfil_reacoes:\n",
    "            totalperfis+=1\n",
    "            perfil_reacoes[dado['identidadeFacebook']]={}\n",
    "            for dc in dic_categoria:\n",
    "                perfil_reacoes[dado['identidadeFacebook']][dc]=0\n",
    "        for amigo in postagem['reacoes']:\n",
    "            if amigo['usuario'] not in perfil_reacoes:\n",
    "                totalperfis+=1\n",
    "                perfil_reacoes[amigo['usuario']]={}\n",
    "                for dc in dic_categoria:\n",
    "                    perfil_reacoes[amigo['usuario']][dc]=0\n",
    "                    \n",
    "        #Verifica quais categorias aparecem na publicação        \n",
    "        if postagem['mensagem']!=None and postagem['mensagem']!=' ':\n",
    "            qPostagemNotNull+=1\n",
    "            for dc in dic_categoria:\n",
    "                categorias_postagem[dc]=0 \n",
    "            listPalavras=[]\n",
    "            new= preprocessamento_dados(postagem['mensagem'])\n",
    "            for palavra in new:\n",
    "                if palavra!='':\n",
    "                    if palavra in palavra_frequencia:\n",
    "                        categorias_postagem[palavra_categoria[palavra]]=1\n",
    "                        valido=1\n",
    "            #Se a publicação for valida, ou seja, se pelo menos uma palavra da postagem possuir uma categoria\n",
    "            if valido:\n",
    "                qPostagemValida+=1\n",
    "                #Adiciona as categorias q aparecem na publicação na variavel de cada perfil\n",
    "                for p in postagem['reacoes']:\n",
    "                    if p['usuario']!=dado['identidadeFacebook']:\n",
    "                        for x in categorias_postagem:\n",
    "                            if categorias_postagem[x]>0:\n",
    "                                perfil_reacoes[p['usuario']][x]+=1\n",
    "                for x in categorias_postagem:\n",
    "                    if categorias_postagem[x]>0:\n",
    "                        perfil_reacoes[dado['identidadeFacebook']][x]+=1\n",
    "\n",
    "#Guarda o total de reações de cada perfil. ex:abc 0-1-1-0-0-0-1-0-1-1-1 = 6 \n",
    "#perfil_reacoes_total[abc]=6\n",
    "perfil_reacoes_total={}   \n",
    "for x in perfil_reacoes:\n",
    "    perfil_reacoes_total[x]=0\n",
    "    for y in perfil_reacoes[x]:\n",
    "        if perfil_reacoes[x][y]>0:\n",
    "            perfil_reacoes_total[x]+=1\n",
    "\n",
    "#Classifica os perfis que reagiram a nenhuma, um, duas,..., dez ou mais categorias\n",
    "dic_num={1:0,2:0,3:0,4:0,5:0,6:0,7:0,8:0,9:0,10:0}\n",
    "nenhum=0\n",
    "for i in perfil_reacoes_total:\n",
    "    if perfil_reacoes_total[i]>0 and perfil_reacoes_total[i]<10:\n",
    "        dic_num[perfil_reacoes_total[i]]+=1\n",
    "    elif perfil_reacoes_total[i]>=10:\n",
    "        dic_num[10]+=1\n",
    "    else:\n",
    "        nenhum+=1\n",
    "        \n",
    "\n",
    "print(\"Perfis com nenhuma reação valida=\",nenhum)\n",
    "print(\"Quant_catgoria: Quant_perfis\",dic_num)\n",
    "print(\"Total de perfis=\",totalperfis)\n",
    "print(\"Total de postagens=\",qPostagemTotal)\n",
    "print(\"Total de postagens não vazias=\",qPostagemNotNull)\n",
    "print(\"Total de postagens validas=\",qPostagemValida)"
   ]
  },
  {
   "cell_type": "markdown",
   "metadata": {},
   "source": [
    "#### Cria a matriz de amizade"
   ]
  },
  {
   "cell_type": "code",
   "execution_count": 6,
   "metadata": {},
   "outputs": [
    {
     "name": "stdout",
     "output_type": "stream",
     "text": [
      "Total de perfis =  1489\n",
      "Perfis sem amigos =  3\n",
      "Perfis com 1 amigo =  873\n",
      "Perfis com 2 a 10 amigos =  530\n",
      "Perfis com mais de 10 amigos =  83\n"
     ]
    },
    {
     "data": {
      "text/plain": [
       "'\\ncontador=0\\ndic_contador={}\\nfor tam in lista_Quant_amigo:\\n    if tam in dic_contador:\\n        dic_contador[tam]=dic_contador[tam]+1\\n    else:\\n        dic_contador[tam]=1\\n    contador+=1\\n'"
      ]
     },
     "execution_count": 6,
     "metadata": {},
     "output_type": "execute_result"
    }
   ],
   "source": [
    "id_perfil={} #Relação do indice e nomePerfil\n",
    "perfil_id={} #Relação do nomePerfil e indice\n",
    "lista_perfis_selecionados=[] #Lista com perfis selecionados\n",
    "qPerfisValidos=0 #Quantidade de perfis validos\n",
    "\n",
    "#Cria lista com perfis selecionados, ou seja q reagiu a mais de 2 categorias\n",
    "for i in perfil_reacoes_total:\n",
    "    if perfil_reacoes_total[i]>2:\n",
    "        id_perfil[qPerfisValidos]=i\n",
    "        perfil_id[i]=qPerfisValidos\n",
    "        lista_perfis_selecionados.append(i)\n",
    "        qPerfisValidos+=1\n",
    "        \n",
    "matriz_Perfil=[[0 for i in range(qPerfisValidos)] for y in range(qPerfisValidos)] #Matriz de adjacencia da amizade entre perfis validos\n",
    "lista_Quant_amigo=[0 for i in range(qPerfisValidos)] #Armazena quantos amigos validos cada perfil tem\n",
    "\n",
    "#Preenche matriz\n",
    "mycol = mydb[\"perfils\"]\n",
    "for dado in mycol.find():\n",
    "    name= dado['identidadeFacebook']\n",
    "    if name in perfil_id:\n",
    "        for amigo in dado['amigos']:\n",
    "            if amigo in perfil_id:\n",
    "                matriz_Perfil[perfil_id[amigo]][perfil_id[name]]=1\n",
    "                matriz_Perfil[perfil_id[name]][perfil_id[amigo]]=1\n",
    "\n",
    "\n",
    "aux=0\n",
    "count0=0\n",
    "count1=0\n",
    "count2a9=0\n",
    "count10=0\n",
    "for i in matriz_Perfil:\n",
    "    som=sum(i)\n",
    "    lista_Quant_amigo[aux]=som\n",
    "    if som==0:\n",
    "        count0+=1\n",
    "    if som==1:\n",
    "        count1+=1\n",
    "    if som<=10 and som>1:\n",
    "        count2a9+=1\n",
    "    if som>10:\n",
    "        count10+=1\n",
    "    aux+=1\n",
    "    \n",
    "print(\"Total de perfis = \",qPerfisValidos)   \n",
    "print(\"Perfis sem amigos = \",count0)\n",
    "print(\"Perfis com 1 amigo = \",count1)\n",
    "print(\"Perfis com 2 a 10 amigos = \",count2a9)\n",
    "print(\"Perfis com mais de 10 amigos = \",count10)\n",
    "'''\n",
    "contador=0\n",
    "dic_contador={}\n",
    "for tam in lista_Quant_amigo:\n",
    "    if tam in dic_contador:\n",
    "        dic_contador[tam]=dic_contador[tam]+1\n",
    "    else:\n",
    "        dic_contador[tam]=1\n",
    "    contador+=1\n",
    "'''"
   ]
  },
  {
   "cell_type": "markdown",
   "metadata": {},
   "source": [
    "## Cria DF perfilXcategoria"
   ]
  },
  {
   "cell_type": "code",
   "execution_count": 7,
   "metadata": {
    "scrolled": true
   },
   "outputs": [],
   "source": [
    "perfil = pd.DataFrame(0, index=lista_perfis_selecionados, columns=df.columns)\n",
    "\n",
    "\n",
    "###palavra_categoria\n",
    "\n",
    "dic_categoria={}\n",
    "for x in df.columns:\n",
    "    dic_categoria[x]=0\n",
    "\n",
    "##perfil_amigos={}\n",
    "###perfil_pub={}\n",
    "perfil_reacoes={}\n",
    "###lista_palavras_amigos={}\n",
    "###localizacao_perfil={}\n",
    "categorias_postagem={}\n",
    "\n",
    "###aux_loca=1\n",
    "###aux_perfil=0\n",
    "\n",
    "mycol = mydb[\"perfils\"]\n",
    "for dado in mycol.find():\n",
    "    for postagem in dado['postagens']:\n",
    "        if postagem['mensagem']!=None and postagem['mensagem']!=' ':\n",
    "            for dc in dic_categoria:\n",
    "                categorias_postagem[dc]=0 \n",
    "            postagem_limpa= preprocessamento_dados(postagem['mensagem'])\n",
    "            for palavra in postagem_limpa:\n",
    "                if palavra!='':\n",
    "                    if palavra in palavra_frequencia:\n",
    "                        categorias_postagem[palavra_categoria[palavra]]=1\n",
    "                        valido=1\n",
    "            if valido:\n",
    "                for p in postagem['reacoes']:\n",
    "                    if p['usuario'] in lista_perfis_selecionados and p['usuario']!=dado['identidadeFacebook']:\n",
    "                        for x in categorias_postagem:\n",
    "                            if categorias_postagem[x]>0:\n",
    "                                if perfil.loc[p['usuario'],x]==0:\n",
    "                                    perfil.loc[p['usuario'],x]=10.1\n",
    "                                else:\n",
    "                                    perfil.loc[p['usuario'],x]=perfil.loc[p['usuario'],x]+0.1\n",
    "                    \n",
    "                if dado['identidadeFacebook'] in lista_perfis_selecionados:\n",
    "                    for x in categorias_postagem:\n",
    "                        if categorias_postagem[x]>0:\n",
    "                            if perfil.loc[dado['identidadeFacebook'],x]==0:\n",
    "                                perfil.loc[dado['identidadeFacebook'],x]=10.1\n",
    "                            else:\n",
    "                                perfil.loc[dado['identidadeFacebook'],x]=perfil.loc[dado['identidadeFacebook'],x]+0.1\n"
   ]
  },
  {
   "cell_type": "markdown",
   "metadata": {},
   "source": [
    "#### Distância Euclidiana"
   ]
  },
  {
   "cell_type": "code",
   "execution_count": 8,
   "metadata": {},
   "outputs": [],
   "source": [
    "matriz_dist=[[0 for i in range(qPerfisValidos)] for y in range(qPerfisValidos)]\n",
    "\n",
    "for i in range(qPerfisValidos):\n",
    "    for y in range(i,qPerfisValidos):\n",
    "        dist=distance.euclidean(perfil.loc[id_perfil[i],:], perfil.loc[id_perfil[y],:])\n",
    "        matriz_dist[i][y]=dist\n",
    "        matriz_dist[y][i]=dist"
   ]
  },
  {
   "cell_type": "markdown",
   "metadata": {},
   "source": [
    "#### Teste de escala\n",
    "\n",
    "Mede a Distância Euclidiana entre um perfil que não reagiu a nenhuma categoria e um perfil que reagiu a 1,2,3...n categorias.\n",
    "Com essas distâncias é possivel determinar os valores das escalas"
   ]
  },
  {
   "cell_type": "code",
   "execution_count": 9,
   "metadata": {},
   "outputs": [
    {
     "name": "stdout",
     "output_type": "stream",
     "text": [
      "0  =  0.0\n",
      "1  =  10.1\n",
      "2  =  14.28355697996826\n",
      "3  =  17.49371315644566\n",
      "4  =  20.2\n",
      "5  =  22.584286572747875\n",
      "6  =  24.739846402110096\n",
      "7  =  26.722088241752363\n",
      "8  =  28.56711395993652\n",
      "9  =  30.299999999999997\n",
      "10  =  31.93900436770063\n",
      "11  =  33.49791038258954\n",
      "12  =  34.98742631289132\n",
      "13  =  36.41606788218629\n",
      "14  =  37.79073960641681\n",
      "15  =  39.117131796694906\n",
      "16  =  40.4\n",
      "17  =  41.64336681873837\n",
      "18  =  42.85067093990478\n",
      "19  =  44.0248793297608\n"
     ]
    }
   ],
   "source": [
    "mt=[] \n",
    "for i in range(df.shape[1]+1):\n",
    "    mt.append([0 if i<=x else 10.1 for x in range(df.shape[1])])\n",
    "    \n",
    "perfil_test = pd.DataFrame(mt, columns=df.columns)\n",
    "cont_test=perfil_test.shape[0]\n",
    "\n",
    "matriz_dist_test=[[0 for i in range(cont_test)] for y in range(cont_test)]\n",
    "for i in range(cont_test):\n",
    "    for y in range(i,cont_test):\n",
    "        dist=distance.euclidean(perfil_test.loc[i,:], perfil_test.loc[y,:])\n",
    "        matriz_dist_test[i][y]=dist\n",
    "\n",
    "for i in range(cont_test):\n",
    "    print(i,\" = \",matriz_dist_test[0][i])"
   ]
  },
  {
   "cell_type": "markdown",
   "metadata": {},
   "source": [
    "0.00 <= X <= 17.32   Muito similar  (1 2 3) \n",
    "\n",
    "17.32 < X <= 26.45   Similar (4 5 6 7) \n",
    "\n",
    "26.45 < X <= 34.64   Irrelevante (8 9 10 11 12)\n",
    "\n",
    "34.64 < X <= 44.0    Dissimilar (13 14 15 16)\n",
    "\n",
    "44.0  < X            Muito Dissimilar (17 18 19)"
   ]
  },
  {
   "cell_type": "markdown",
   "metadata": {},
   "source": [
    "#### Função para calcular amizade dos perfis"
   ]
  },
  {
   "cell_type": "code",
   "execution_count": 10,
   "metadata": {},
   "outputs": [],
   "source": [
    "lista_moda=[0 for x in range(qPerfisValidos)] #Lista com a moda de cada perfil (Quant_amigos,moda)\n",
    "\n",
    "#Classifica amizade de cada perfil\n",
    "for y in range(qPerfisValidos):\n",
    "    amigo_dist=[]\n",
    "    for x in range(qPerfisValidos):\n",
    "        if matriz_Perfil[y][x]==1: \n",
    "            dist = matriz_dist[x][y] \n",
    "            if dist < 20.2:\n",
    "                amigo_dist.append(5)\n",
    "            elif (20.2 <= dist) and (dist<28.56):\n",
    "                amigo_dist.append(4)\n",
    "            elif (28.56 <= dist) and (dist<36.41):\n",
    "                amigo_dist.append(3)\n",
    "            elif (36.41 <= dist) and (dist<41.64):\n",
    "                amigo_dist.append(2)\n",
    "            else:\n",
    "                amigo_dist.append(1)\n",
    "    \n",
    "    #Calcula a moda de cada lista\n",
    "    if amigo_dist!=[]:\n",
    "        try:\n",
    "            moda = statistics.mode(amigo_dist)\n",
    "        except:\n",
    "            contador_aux=[0,0,0,0,0]\n",
    "            for i in amigo_dist:\n",
    "                contador_aux[i-1]=contador_aux[i-1]+1\n",
    "            valor_max=max(contador_aux)\n",
    "            for i in range(len(contador_aux)):\n",
    "                if contador_aux[i]==valor_max:\n",
    "                    moda=i+1\n",
    "        lista_moda[y]=(len(amigo_dist),moda)\n",
    "    else:\n",
    "        lista_moda[y]=(len(amigo_dist),0)\n"
   ]
  },
  {
   "cell_type": "code",
   "execution_count": 11,
   "metadata": {},
   "outputs": [
    {
     "name": "stdout",
     "output_type": "stream",
     "text": [
      "[0, 4, 81, 406, 382]\n"
     ]
    },
    {
     "data": {
      "image/png": "[encoded data removed]",
      "text/plain": [
       "<Figure size 432x288 with 1 Axes>"
      ]
     },
     "metadata": {
      "needs_background": "light"
     },
     "output_type": "display_data"
    },
    {
     "name": "stdout",
     "output_type": "stream",
     "text": [
      "[0, 0, 44, 270, 216]\n"
     ]
    },
    {
     "data": {
      "image/png": "[encoded data removed]",
      "text/plain": [
       "<Figure size 432x288 with 1 Axes>"
      ]
     },
     "metadata": {
      "needs_background": "light"
     },
     "output_type": "display_data"
    },
    {
     "name": "stdout",
     "output_type": "stream",
     "text": [
      "[0, 0, 7, 49, 27]\n"
     ]
    },
    {
     "data": {
      "image/png": "[encoded data removed]",
      "text/plain": [
       "<Figure size 432x288 with 1 Axes>"
      ]
     },
     "metadata": {
      "needs_background": "light"
     },
     "output_type": "display_data"
    },
    {
     "name": "stdout",
     "output_type": "stream",
     "text": [
      "[0, 4, 132, 725, 625]\n"
     ]
    },
    {
     "data": {
      "image/png": "[encoded data removed]",
      "text/plain": [
       "<Figure size 432x288 with 1 Axes>"
      ]
     },
     "metadata": {
      "needs_background": "light"
     },
     "output_type": "display_data"
    }
   ],
   "source": [
    "#Definições de cda gráfico\n",
    "limites=[(0,1),(1,10),(10,1000),(0,1000)]\n",
    "nomes_grafico=['1amigo.png', '2a10amigos.png', 'Mais10amigos.png', 'Todos.png' ]\n",
    "labels = ['Muito Dissimilar','Dissimilar','Irrelevante','Similar','Muito Similiar']\n",
    "\n",
    "for grafico in range(len(limites)):\n",
    "    contador_aux=[0,0,0,0,0,0]\n",
    "    #Seleciona os perfis que se encaixam no range\n",
    "    for i in lista_moda:\n",
    "        if i[0]>limites[grafico][0] and i[0]<=limites[grafico][1]:\n",
    "            contador_aux[i[1]]+=1\n",
    "    men_means=contador_aux[1:]\n",
    "\n",
    "    #Definições do grafico\n",
    "    x = np.arange(len(labels)) \n",
    "    width = 0.5  # Tamanho da barra\n",
    "    fig, ax = plt.subplots()\n",
    "    rects1 = ax.bar(x, men_means)\n",
    "    ax.set_ylabel('Frequência')\n",
    "    ax.set_xticks(x)\n",
    "    ax.set_xticklabels(labels)\n",
    "\n",
    "    #Atribui a porcentagem em cima das barras\n",
    "    def autolabel(rects):\n",
    "        for rect in rects:\n",
    "            height = rect.get_height()\n",
    "            absolute=(height*100)/np.sum(men_means)\n",
    "            ax.annotate('{:.1f}%\\n'.format(absolute),\n",
    "                        xy=(rect.get_x() + rect.get_width() / 2, height),\n",
    "                        xytext=(0, 5),\n",
    "                        textcoords=\"offset points\",\n",
    "                        ha='center', va='bottom')\n",
    "\n",
    "\n",
    "    autolabel(rects1)\n",
    "    ax.spines['top'].set_visible(False)\n",
    "    print(men_means)\n",
    "    fig.tight_layout()\n",
    "    fig.savefig(nomes_grafico[grafico], transparent=True)\n",
    "    plt.show()\n"
   ]
  },
  {
   "cell_type": "markdown",
   "metadata": {},
   "source": [
    "### Formar grupo"
   ]
  },
  {
   "cell_type": "code",
   "execution_count": 12,
   "metadata": {},
   "outputs": [],
   "source": [
    "#Calcula o centroide de um cluster\n",
    "def centroide(pontos):\n",
    "    cent = [sum(ponto)/len(ponto) for ponto in zip(*pontos)]\n",
    "\n",
    "    return tuple(cent)"
   ]
  },
  {
   "cell_type": "code",
   "execution_count": 13,
   "metadata": {},
   "outputs": [],
   "source": [
    "#Calcula o SSE de um conjunto de clusteres\n",
    "def sse(df_grupo, g, alg):\n",
    "    ###print(\"df_grupo\",df_grupo)\n",
    "    sumTotal=0\n",
    "    for x in range(g):\n",
    "        df_g=df_grupo[df_grupo[alg]==x].iloc[:,:19]\n",
    "        pontos=[]\n",
    "        for i in range(len(df_g)):\n",
    "            pontos.append(df_g.iloc[i])\n",
    "        cent=centroide(pontos)\n",
    "\n",
    "        suum=0\n",
    "        for i in range(len(df_g)):\n",
    "            for d in range(19):\n",
    "                suum+=distance.euclidean(df_g.iloc[i][d], cent[d])**2\n",
    "        sumTotal+=suum\n",
    "    return sumTotal"
   ]
  },
  {
   "cell_type": "markdown",
   "metadata": {},
   "source": [
    "#### Hierarchy"
   ]
  },
  {
   "cell_type": "code",
   "execution_count": 14,
   "metadata": {},
   "outputs": [],
   "source": [
    "def hierarquico(lista, perfil, total, grupo):\n",
    "    ####print(\"perfil=\",perfil)\n",
    "    ###lista_resposta=[]\n",
    "    #Cria dendrograma\n",
    "    scaler = StandardScaler()\n",
    "    base = scaler.fit_transform(perfil)\n",
    "    dendrograma = dendrogram(linkage(base, method = 'ward'))\n",
    "    \n",
    "    #Defini tamanho e faz a divisão dos clusteres\n",
    "    cluster = AgglomerativeClustering(n_clusters = grupo, affinity = 'euclidean', linkage = 'ward')\n",
    "    cluster.fit_predict(base)\n",
    "    previsoes = cluster.labels_\n",
    "    \n",
    "    #Adiciona o numeros dos grupos no dataframe\n",
    "    perfil['hierarchy']=previsoes\n",
    "    #Calcula o SSE dos clusteres\n",
    "    som_tl=sse(perfil,grupo,'hierarchy')\n",
    "\n",
    "    return som_tl"
   ]
  },
  {
   "cell_type": "markdown",
   "metadata": {},
   "source": [
    "#### Hierarchy Modificado"
   ]
  },
  {
   "cell_type": "code",
   "execution_count": 18,
   "metadata": {},
   "outputs": [],
   "source": [
    "def hierarquicoModificao(lista, perfil3, total, grupo):\n",
    "    \n",
    "    matriz_dist2=pd.DataFrame(matriz_dist)\n",
    "    new_matriz_dist=matriz_dist2.iloc[lista,lista]\n",
    "    limit=1000000.0\n",
    "\n",
    "    arrOrig= np.array(([[new_matriz_dist.iloc[i,j] if new_matriz_dist.iloc[i,j]!=0.0 else limit for i in range(total)]for j in range(total)]))\n",
    "    arr= np.array(([[new_matriz_dist.iloc[i,j] if new_matriz_dist.iloc[i,j]!=0.0 else limit for i in range(total)]for j in range(total)]))\n",
    "    matriz_outra=np.array(([[limit for i in range(total)]for j in range(grupo)]))\n",
    "    list_resposta=[1000000.0 for j in range(total)]\n",
    "    disponivel=[j for j in range(total)]\n",
    "    \n",
    "    m = [[] for i in range(grupo)]\n",
    "    g=0\n",
    "    \n",
    "    #Defini os grupos com os pares mais proximos\n",
    "    while g<grupo:\n",
    "        tp=unravel_index(arr.argmin(), arr.shape)\n",
    "        m[g].append(tp[0])\n",
    "        m[g].append(tp[1])\n",
    "        disponivel.remove(tp[0])\n",
    "        disponivel.remove(tp[1])\n",
    "        for i in range(total):\n",
    "            arr[tp[0]][i]=limit\n",
    "            arr[i][tp[0]]=limit\n",
    "            arr[tp[1]][i]=limit\n",
    "            arr[i][tp[1]]=limit\n",
    "        g+=1\n",
    "\n",
    "    #Adiciona os elementos disponiveis dentro dos grupos mas proximos e menores que o tamanho maximo\n",
    "    while len(disponivel)>0:\n",
    "        for i in disponivel:\n",
    "            for y in range(grupo):\n",
    "                if len(m[y])<(total/grupo):\n",
    "                    matriz_outra[y][i]=dist_grupo(i,m[y],arrOrig) \n",
    "                else:\n",
    "                    matriz_outra[y][i]=limit\n",
    "        tp=unravel_index(matriz_outra.argmin(), matriz_outra.shape)\n",
    "        m[tp[0]].append(tp[1])\n",
    "        disponivel.remove(tp[1])\n",
    "\n",
    "        for i in range(grupo):\n",
    "            matriz_outra[i][tp[1]]=limit\n",
    "\n",
    "    for i in range(grupo):\n",
    "        for y in range(int(total/grupo)):\n",
    "            list_resposta[m[i][y]]=i\n",
    "    \n",
    "    #Adiciona o numeros dos grupos no dataframe\n",
    "    perfil_rand['Meu2']=list_resposta\n",
    "    \n",
    "    #Calcula o SSE dos clusteres\n",
    "    som_tl=sse(perfil_rand,grupo,'Meu2')\n",
    "\n",
    "    return som_tl"
   ]
  },
  {
   "cell_type": "code",
   "execution_count": 16,
   "metadata": {},
   "outputs": [],
   "source": [
    "def dist_grupo(n,lis,arrOrig):\n",
    "        somatorio=0\n",
    "        for i in lis:\n",
    "            somatorio+=arrOrig[n][i]\n",
    "        resposta=somatorio/len(lis)\n",
    "        return resposta"
   ]
  },
  {
   "cell_type": "code",
   "execution_count": 19,
   "metadata": {},
   "outputs": [
    {
     "data": {
      "image/png": "[encoded data removed]",
      "text/plain": [
       "<Figure size 432x288 with 1 Axes>"
      ]
     },
     "metadata": {
      "needs_background": "light"
     },
     "output_type": "display_data"
    }
   ],
   "source": [
    "grupos=[2,5,10,25]\n",
    "numbers = [10,50,100,500]\n",
    "execursao = [1,2,3,4,5]\n",
    "algo = ['HT','HM','HM-HT']\n",
    "\n",
    "lista_df=[] #Lista com os dataFrames\n",
    "lista_porcent=[] #Lista com porcentagens \n",
    "\n",
    "hier_index=pd.MultiIndex.from_product([execursao,algo],names=['Exec','Alg'])\n",
    "for grupo in grupos:\n",
    "    if grupo==2 or grupo==5:\n",
    "        df = pd.DataFrame('0',index=hier_index,columns=['10 PERFIS','50 PERFIS','100 PERFIS','500 PERFIS'])\n",
    "    else:\n",
    "        df = pd.DataFrame('0',index=hier_index,columns=['50 PERFIS','100 PERFIS','500 PERFIS'])\n",
    "    lista_df.append(df)\n",
    "\n",
    "cont=[0,0]\n",
    "for t in execursao:\n",
    "    for y in range(len(numbers)):\n",
    "        lista_rand = sample(range(qPerfisValidos), numbers[y])\n",
    "        perfil_rand=perfil.iloc[lista_rand,:19]\n",
    "        aux=[]\n",
    "        for x in range(len(grupos)):\n",
    "            if y==0 and (x==2 or x==3):\n",
    "                aux.append(0)\n",
    "            else:\n",
    "                if x==2 or x==3:\n",
    "                    ln=y-1\n",
    "                else:\n",
    "                    ln=y\n",
    "                fo=hierarquico(lista_rand, perfil_rand, numbers[y], grupos[x])\n",
    "                lista_df[x].iloc[t*3-3][ln]='{:.2f}'.format(fo)\n",
    "                foM=hierarquicoModificao(lista_rand, perfil_rand, numbers[y], grupos[x])\n",
    "                lista_df[x].iloc[t*3-2][ln]='{:.2f}'.format(foM)\n",
    "                lista_df[x].iloc[t*3-1][ln]='{:.2f}%'.format(((foM*100)/fo)-100)\n",
    "                aux.append(((foM*100)/fo)-100)\n",
    "        lista_porcent.append(aux)\n",
    "        #print(lista_porcent)\n",
    "        #print(lista_df)\n",
    "\n",
    "#print('----------------------------')\n",
    "#print(lista_df)"
   ]
  },
  {
   "cell_type": "code",
   "execution_count": null,
   "metadata": {},
   "outputs": [],
   "source": [
    "#Contrução dos graficos\n",
    "for ex in execursao:    \n",
    "    porc=[]\n",
    "    for i in range(len(numbers)):\n",
    "        l=[]\n",
    "        if i==2 or i==3:\n",
    "            #Zera quando for 10 e 25 perfis para 10 cluteres\n",
    "            l.append(0)\n",
    "        for y in lista_df[i].iloc[ex*3-1].values:\n",
    "            l.append(float(y.split('%')[0]))\n",
    "        porc.append(l)\n",
    "        \n",
    "    print(porc)\n",
    "    barWidth = 0.2\n",
    "    plt.figure(figsize=(10,5))\n",
    "\n",
    "    r1 = np.arange(len(porc[0]))\n",
    "    r2 = [x + barWidth for x in r1]\n",
    "    r3 = [x + barWidth for x in r2]\n",
    "    r4 = [x + barWidth for x in r3]\n",
    "\n",
    "    plt.bar(r1, porc[0], width=barWidth, label='2 Clusters')\n",
    "    plt.bar(r2, porc[1], width=barWidth, label='5 Clusters')\n",
    "    plt.bar(r3, porc[2], width=barWidth, label='10 Clusters')\n",
    "    plt.bar(r4, porc[3], width=barWidth, label='25 Clusters')\n",
    "\n",
    "    plt.xlabel('Quantidade de perfis')\n",
    "    plt.xticks([r+barWidth for r in range(len(porc[0]))],['10 Perfis','50 Perfis','100 Perfis','500 Perfis'])\n",
    "    plt.ylabel('Porcentagens')\n",
    "    plt.title('Execução '+str(ex))\n",
    "\n",
    "    plt.legend()\n",
    "    plt.savefig('Barra'+str(ex)+'.png')"
   ]
  },
  {
   "cell_type": "code",
   "execution_count": null,
   "metadata": {},
   "outputs": [],
   "source": [
    "lista_df"
   ]
  },
  {
   "cell_type": "code",
   "execution_count": null,
   "metadata": {},
   "outputs": [],
   "source": []
  }
 ],
 "metadata": {
  "kernelspec": {
   "display_name": "Python 3",
   "language": "python",
   "name": "python3"
  },
  "language_info": {
   "codemirror_mode": {
    "name": "ipython",
    "version": 3
   },
   "file_extension": ".py",
   "mimetype": "text/x-python",
   "name": "python",
   "nbconvert_exporter": "python",
   "pygments_lexer": "ipython3",
   "version": "3.7.6"
  }
 },
 "nbformat": 4,
 "nbformat_minor": 4
}
